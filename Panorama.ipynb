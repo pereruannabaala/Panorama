{
  "nbformat": 4,
  "nbformat_minor": 0,
  "metadata": {
    "colab": {
      "provenance": []
    },
    "kernelspec": {
      "name": "python3",
      "display_name": "Python 3"
    },
    "language_info": {
      "name": "python"
    }
  },
  "cells": [
    {
      "cell_type": "code",
      "execution_count": 1,
      "metadata": {
        "id": "xiM8FNW8ijNP"
      },
      "outputs": [],
      "source": [
        "# Import Libraries\n",
        "import os\n",
        "import cv2\n",
        "import math\n",
        "import glob\n",
        "import numpy as np\n",
        "import matplotlib.pyplot as plt\n",
        "\n",
        "from zipfile import ZipFile\n",
        "from urllib.request import urlretrieve\n",
        "\n",
        "%matplotlib inline"
      ]
    },
    {
      "cell_type": "code",
      "source": [
        "def download_and_unzip(url, save_path):\n",
        "    print(f\"Downloading and extracting assests....\", end=\"\")\n",
        "\n",
        "    # Downloading zip file using urllib package.\n",
        "    urlretrieve(url, save_path)\n",
        "\n",
        "    try:\n",
        "        # Extracting zip file using the zipfile package.\n",
        "        with ZipFile(save_path) as z:\n",
        "            # Extract ZIP file contents in the same directory.\n",
        "            z.extractall(os.path.split(save_path)[0])\n",
        "\n",
        "        print(\"Done\")\n",
        "\n",
        "    except Exception as e:\n",
        "        print(\"\\nInvalid file.\", e)"
      ],
      "metadata": {
        "id": "Ht32ZQOWkrX5"
      },
      "execution_count": 2,
      "outputs": []
    },
    {
      "cell_type": "code",
      "source": [
        "URL = r\"https://www.dropbox.com/s/0o5yqql1ynx31bi/opencv_bootcamp_assets_NB9.zip?dl=1\"\n",
        "\n",
        "asset_zip_path = os.path.join(os.getcwd(), \"opencv_bootcamp_assets_NB9.zip\")\n",
        "\n",
        "# Download if assest ZIP does not exists.\n",
        "if not os.path.exists(asset_zip_path):\n",
        "    download_and_unzip(URL, asset_zip_path)"
      ],
      "metadata": {
        "colab": {
          "base_uri": "https://localhost:8080/"
        },
        "id": "FLD7UVzektb_",
        "outputId": "7af4690a-a32c-47ba-e340-54ebde16f19d"
      },
      "execution_count": 3,
      "outputs": [
        {
          "output_type": "stream",
          "name": "stdout",
          "text": [
            "Downloading and extracting assests....Done\n"
          ]
        }
      ]
    }
  ]
}